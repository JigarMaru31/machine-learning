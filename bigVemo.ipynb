{
  "nbformat": 4,
  "nbformat_minor": 0,
  "metadata": {
    "colab": {
      "provenance": []
    },
    "kernelspec": {
      "name": "python3",
      "display_name": "Python 3"
    },
    "language_info": {
      "name": "python"
    }
  },
  "cells": [
    {
      "cell_type": "code",
      "source": [
        "\n",
        "import pandas as pd\n",
        "import tweepy\n",
        "from tweepy import OAuthHandler\n",
        "\n",
        "consumer_key = \"uJUfRK2GdxfdqOyo43RWmkCbd\"\n",
        "consumer_secret = \"sK6WNrfYZKBhFKXyneWv6URESMwq7GwcLbKQER1D7B50WSkwdj\"\n",
        "access_key = \"2551921020-ZkWwPqeqRgtJtESKnd5nnAWbVa12oK56WT1zBEB\"\n",
        "access_secret = \"PIKiOs0eewDKqsaKiPqQ99L7lrYCqa9clrqm5QMrqrX0m\"\n",
        "\n",
        "# consumer_key = \"McwBKhuvhwr23a31vl1Dm1wKE\"\n",
        "# consumer_secret = \"BL2lQ3F0Qgf8Fhg9jzSt0xf580Xvezyn5k4UGwIohDaRicb6uc\"\n",
        "# access_key = \"1644950797464240129-CUUoK8X2NrGDNAlQlgCJ19y0TkLw04\"\n",
        "# access_secret = \"15QGJ2nnAUmUL1j2d5HzOee0Cor6va5jmmMYo78mmhZ61\"\n",
        "\n",
        "#Pass in our twitter API authentication key\n",
        "auth = OAuthHandler(consumer_key, consumer_secret)\n",
        "auth.set_access_token(access_key, access_secret)\n",
        "api = tweepy.API(auth)\n",
        "#Instantiate the tweepy API\n",
        "api = tweepy.API(auth, wait_on_rate_limit=True)\n",
        "\n",
        "#username=input(\"Enter the Username :\")\n",
        "# username= \"imVkohli\"\n",
        "no_of_tweets =5\n",
        "\n",
        "\n",
        "\n",
        "try:\n",
        "    #The number of tweets we want to retrieved from the user\n",
        "    tweets = api.user_timeline(count=no_of_tweets)\n",
        "    \n",
        "    #Pulling Some attributes from the tweet\n",
        "    attributes_container = [[tweet.id,tweet.lang,tweet.text] for tweet in tweets]\n",
        "\n",
        "    #Creation of column list to rename the columns in the dataframe\n",
        "    columns = [\"id\",\"language\",\"text\"]\n",
        "    \n",
        "    #Creation of Dataframe\n",
        "    tweets_df = pd.DataFrame(attributes_container, columns=columns)\n",
        "except BaseException as e:\n",
        "    print('Status Failed On,',str(e))\n",
        "    time.sleep(5)\n",
        "\n",
        "\n",
        "tweets_df.head(5)\n",
        "\n",
        "import json\n",
        "\n",
        "data = []\n",
        "for i in range(len(tweets_df)):\n",
        "    row = {\n",
        "        \"id\": str(tweets_df.iloc[i]['id']),\n",
        "        \"language\": tweets_df.iloc[i]['language'],\n",
        "        \"text\": tweets_df.iloc[i]['text']\n",
        "    }\n",
        "    data.append(row)\n",
        "\n",
        "payload = json.dumps(data, indent=4)\n",
        "\n",
        "print(payload)\n",
        "\n",
        "\n",
        "import pandas as pd\n",
        "\n",
        "import http.client\n",
        "\n",
        "\n",
        "conn = http.client.HTTPSConnection(\"big-five-personality-insights.p.rapidapi.com\")\n",
        "\n",
        "#payload = \"[\\r\\n    {\\r\\n        \\\"id\\\": \\\"1\\\",\\r\\n        \\\"language\\\": \\\"en\\\",\\r\\n        \\\"text\\\": \\\"france is bad\\\"\\r\\n    }\\r\\n]\"\n",
        "\n",
        "headers = {\n",
        "    'content-type': \"application/json\",\n",
        "    'X-RapidAPI-Key': \"508b44e43cmsh2a9857a1eda89d1p162d52jsn96a281211048\",\n",
        "    'X-RapidAPI-Host': \"big-five-personality-insights.p.rapidapi.com\"\n",
        "    }\n",
        "\n",
        "conn.request(\"POST\", \"/api/big5\", payload, headers)\n",
        "\n",
        "res = conn.getresponse()\n",
        "data = res.read()\n",
        "#here datatype of data taken as bytes \n",
        "#hence first it is converted to string\n",
        "data=data.decode(\"utf-8\")\n",
        "print(type(data))\n",
        "#then to dictionary\n",
        "dict=json.loads(data)\n",
        "print(dict)\n",
        "#finally into df\n",
        "df=pd.DataFrame(dict)\n",
        "\n",
        "#taken specific columns\n",
        "col=[\"id\",\"openness\",\"extraversion\",\"agreeableness\",\"conscientiousness\",\"neuroticism\"]\n",
        "df=df[col]\n",
        "\n",
        "import matplotlib.pyplot as plt\n",
        "# colormap is used to represent bars in predefined color set like autumm,cool,rainbow\n",
        "ax=df.plot(kind='bar', colormap='tab20')\n",
        "#ax.legend(loc='upper right')\n",
        "plt.title('Big Five Personality Traits per id')\n",
        "plt.show()"
      ],
      "metadata": {
        "id": "pXvyHV9GCYxm",
        "colab": {
          "base_uri": "https://localhost:8080/",
          "height": 797
        },
        "outputId": "e622c980-db00-4800-e9e1-a3af6dd00c73"
      },
      "execution_count": 2,
      "outputs": [
        {
          "output_type": "stream",
          "name": "stdout",
          "text": [
            "[\n",
            "    {\n",
            "        \"id\": \"1456233395931910151\",\n",
            "        \"language\": \"en\",\n",
            "        \"text\": \"@CoinDCX @mihirjajal20 @ronak090 My favourite coin is etheruem..Going big in the future\\ud83d\\ude80\\ud83d\\udcc9\\n#TryCrypto #CoinDCXDiwaliTreat\"\n",
            "    },\n",
            "    {\n",
            "        \"id\": \"1456232905395429385\",\n",
            "        \"language\": \"en\",\n",
            "        \"text\": \"RT @CoinDCX: #ContestAlert\\n\\nOur Diwali gift to you \\ud83c\\udf81\\nFor this auspicious weekend of #Diwali, we are giving away #Cardano worth 100 INR to 1\\u2026\"\n",
            "    },\n",
            "    {\n",
            "        \"id\": \"504289837629726720\",\n",
            "        \"language\": \"en\",\n",
            "        \"text\": \"My First Tweet! #FirstTweet\"\n",
            "    }\n",
            "]\n",
            "<class 'str'>\n",
            "[{'id': '1456233395931910151', 'extraversion': 0.2909476547820774, 'active': 0.798653617825731, 'assertive': 1, 'cheerful': 0.7509884612281126, 'openness': 0.6371453931366785, 'adventurous': 0.7162568731196182, 'artistic': 0.7607405101958479, 'emotionally_aware': 0.2688499268019965, 'imaginative': 0.9847379280930478, 'intellectual': 0.7914606171686781, 'conscientiousness': 0.2778757593572408, 'cautious': 0.7171329437124644, 'disciplined': 0.025936300446104326, 'dutiful': 0.03032818065497804, 'neuroticism': 0.2909476547820774, 'melancholy': 0, 'self_conscious': 0.06469089693490565, 'authority_challenging': 0.1110419476432548, 'achievement_striving': 0.7196919920231467, 'orderliness': 0.12069025140920561, 'self_efficacy': 0.8019619370381899, 'stress_prone': 0.20527717259743403, 'agreeableness': 0.5623566298947562, 'cooperative': 0.8124056206844876, 'trusting': 0.9198741224885016, 'excitement_seeking': 0.6863436732717778, 'outgoing': 0.8267570402646655, 'gregariousness': 0.7940888289472167, 'altruism': 0.7577203720994571, 'modesty': 0.7760832728152989, 'uncompromising': 0.1650816705282936, 'sympathy': 0.7816855137116575, 'fiery': 0.10056368226302866, 'prone_to_worry': 0.14427499394819657, 'immoderation': 0.12224642943597189}, {'id': '1456232905395429385', 'extraversion': 0.20981984732824427, 'active': 0.7650076335877862, 'assertive': 0.8989923664122137, 'cheerful': 0.736683969465649, 'openness': 0.5886900763358779, 'adventurous': 0.8230839694656488, 'artistic': 0.7320305343511451, 'emotionally_aware': 0.7376977099236641, 'imaginative': 0.8766412213740459, 'intellectual': 0.7705893129770992, 'conscientiousness': 0.13282442748091605, 'cautious': 0.7570931297709924, 'disciplined': 0.06258320610687024, 'dutiful': 0.9012763358778626, 'neuroticism': 0.6609465648854962, 'melancholy': 0.08941679389312977, 'self_conscious': 0.743120610687023, 'authority_challenging': 0, 'achievement_striving': 0.028287022900763376, 'orderliness': 0.08318778625954198, 'self_efficacy': 0.7657160305343511, 'stress_prone': 0.7834015267175574, 'agreeableness': 0.6243786259541985, 'cooperative': 0.8255267175572518, 'trusting': 1, 'excitement_seeking': 0.15162137404580156, 'outgoing': 0.8010992366412213, 'gregariousness': 0.8094778625954199, 'altruism': 0.8760916030534353, 'modesty': 0.9501068702290077, 'uncompromising': 0.09429007633587785, 'sympathy': 0.9569832061068704, 'fiery': 0.15163358778625952, 'prone_to_worry': 0.8275175572519083, 'immoderation': 0.8769465648854962}, {'id': '504289837629726720', 'extraversion': 0.6094988305288734, 'active': 0.7399800168040512, 'assertive': 1, 'cheerful': 0.7797874514612713, 'openness': 0.5673183913527261, 'adventurous': 0.7020687149442515, 'artistic': 0.7719304221450144, 'emotionally_aware': 0.1474441946544951, 'imaginative': 0.7997706474101325, 'intellectual': 0.8799418670663306, 'conscientiousness': 0.20524785975429755, 'cautious': 0.22979539932329635, 'disciplined': 0.8279969116878988, 'dutiful': 0.07984195108658627, 'neuroticism': 0.5858596180484592, 'melancholy': 0.7108454254377001, 'self_conscious': 0.742114585462225, 'authority_challenging': 0.8099779730681018, 'achievement_striving': 0.7683879464995345, 'orderliness': 0, 'self_efficacy': 0.7821263937143765, 'stress_prone': 0.728750823171424, 'agreeableness': 0.2681949269932103, 'cooperative': 0.1565728818947703, 'trusting': 0.7912323727774372, 'excitement_seeking': 0.7052932761087268, 'outgoing': 0.845834184889979, 'gregariousness': 0.8078206962327135, 'altruism': 0.0639575811249631, 'modesty': 0.08127256625110707, 'uncompromising': 0.13959851942684562, 'sympathy': 0.16958466743874473, 'fiery': 0.778969957081545, 'prone_to_worry': 0.7675363898539864, 'immoderation': 0.8033585394100416}]\n"
          ]
        },
        {
          "output_type": "display_data",
          "data": {
            "text/plain": [
              "<Figure size 640x480 with 1 Axes>"
            ],
            "image/png": "[encoded data removed]"
          },
          "metadata": {}
        }
      ]
    },
    {
      "cell_type": "code",
      "source": [
        "import http.client\n",
        "\n",
        "conn = http.client.HTTPSConnection(\"ekman-emotion-analysis.p.rapidapi.com\")\n",
        "\n",
        "# payload = \"[\\r\\n    {\\r\\n        \\\"id\\\": \\\"1\\\",\\r\\n        \\\"language\\\": \\\"en\\\",\\r\\n        \\\"text\\\": \\\"I love the service\\\"\\r\\n    }\\r\\n]\"\n",
        "\n",
        "headers = {\n",
        "    'content-type': \"application/json\",\n",
        "    'Accept': \"application/json\",\n",
        "    \"X-RapidAPI-Key\": \"b168acac81msh4f4b114d33e4739p13a998jsna866711927f2\",\n",
        "    \"X-RapidAPI-Host\": \"ekman-emotion-analysis.p.rapidapi.com\"\n",
        "    }\n",
        "\n",
        "conn.request(\"POST\", \"/ekman-emotion\", payload, headers)\n",
        "\n",
        "res = conn.getresponse()\n",
        "data = res.read()\n",
        "\n",
        "print(data.decode(\"utf-8\"))\n",
        "data=data.decode(\"utf-8\")\n",
        "print(type(data))\n",
        "# #then to dictionary\n",
        "dict=json.loads(data)\n",
        "print(dict)\n",
        "\n",
        "\n",
        "\n",
        "df = pd.DataFrame(columns=['id', 'prediction', 'probability'])\n",
        "\n",
        "# Loop through each dictionary in the list\n",
        "for d in dict:\n",
        "    # Get the id value from the dictionary\n",
        "    id_val = d['id']\n",
        "    \n",
        "    # Loop through each prediction dictionary in the predictions list\n",
        "    for p in d['predictions']:\n",
        "        # Get the prediction and probability values from the prediction dictionary\n",
        "        prediction_val = p['prediction']\n",
        "        probability_val = p['probability']\n",
        "        \n",
        "        # Append a new row to the DataFrame with the id, prediction, and probability values\n",
        "        df = df.append({'id': id_val, 'prediction': prediction_val, 'probability': probability_val}, ignore_index=True)\n",
        "\n",
        "\n",
        "print(df)\n",
        "\n",
        "# export DataFrame to CSV file\n",
        "#df.to_csv('predictions.csv', index=False)"
      ],
      "metadata": {
        "colab": {
          "base_uri": "https://localhost:8080/"
        },
        "id": "a7zZV_R8llXX",
        "outputId": "d9500c3f-0f74-48b7-d2f0-44214c2b8f2b"
      },
      "execution_count": 11,
      "outputs": [
        {
          "output_type": "stream",
          "name": "stdout",
          "text": [
            "[{\"id\":\"1456233395931910151\",\"predictions\":[{\"prediction\":\"joy\",\"probability\":0.53428}]},{\"id\":\"1456232905395429385\",\"predictions\":[{\"prediction\":\"surprise\",\"probability\":0.97044}]},{\"id\":\"504289837629726720\",\"predictions\":[{\"prediction\":\"joy\",\"probability\":0.90359}]}]\n",
            "<class 'str'>\n",
            "[{'id': '1456233395931910151', 'predictions': [{'prediction': 'joy', 'probability': 0.53428}]}, {'id': '1456232905395429385', 'predictions': [{'prediction': 'surprise', 'probability': 0.97044}]}, {'id': '504289837629726720', 'predictions': [{'prediction': 'joy', 'probability': 0.90359}]}]\n",
            "                    id prediction  probability\n",
            "0  1456233395931910151        joy      0.53428\n",
            "1  1456232905395429385   surprise      0.97044\n",
            "2   504289837629726720        joy      0.90359\n"
          ]
        },
        {
          "output_type": "stream",
          "name": "stderr",
          "text": [
            "<ipython-input-11-1c90d5567dcb>:42: FutureWarning: The frame.append method is deprecated and will be removed from pandas in a future version. Use pandas.concat instead.\n",
            "  df = df.append({'id': id_val, 'prediction': prediction_val, 'probability': probability_val}, ignore_index=True)\n",
            "<ipython-input-11-1c90d5567dcb>:42: FutureWarning: The frame.append method is deprecated and will be removed from pandas in a future version. Use pandas.concat instead.\n",
            "  df = df.append({'id': id_val, 'prediction': prediction_val, 'probability': probability_val}, ignore_index=True)\n",
            "<ipython-input-11-1c90d5567dcb>:42: FutureWarning: The frame.append method is deprecated and will be removed from pandas in a future version. Use pandas.concat instead.\n",
            "  df = df.append({'id': id_val, 'prediction': prediction_val, 'probability': probability_val}, ignore_index=True)\n"
          ]
        }
      ]
    },
    {
      "cell_type": "code",
      "source": [
        "\n",
        "\n",
        "\n",
        "acces token\n",
        "\n",
        "\n",
        "token secreatr\n",
        "\n",
        "\n",
        "\n",
        "\n",
        "\n",
        "consumer_key = \"HimanshuF110164495534356548812\"\n",
        "consumer_secret = \"AAAAAAAAAAAAAAAAAAAAAEZnmgEAAAAAHbsdx1JF7EfUa2aXmHs1ViEIHnk%3DigQn4iYayUgxb1vcAZzeqJTjFEUi0g9kkEnVrLFRHP5FZ6htMB\"\n",
        "access_key = \"1644950797464240129-m5PaFk7c7iiXe5JBIxtkdJPW01Vs29\"\n",
        "access_secret = \"2icjQnsgMMEiILMLauFq2cnQlFWMmhLrXJHkbpFawupVb\""
      ],
      "metadata": {
        "id": "RYgxhiRMx_g_"
      },
      "execution_count": null,
      "outputs": []
    }
  ]
}